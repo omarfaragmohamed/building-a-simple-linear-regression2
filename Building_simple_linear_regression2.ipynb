{
  "nbformat": 4,
  "nbformat_minor": 0,
  "metadata": {
    "colab": {
      "name": "Building simple linear regression2.ipynb",
      "provenance": [],
      "collapsed_sections": []
    },
    "kernelspec": {
      "name": "python3",
      "display_name": "Python 3"
    }
  },
  "cells": [
    {
      "cell_type": "code",
      "metadata": {
        "id": "-p9QVHX8Pn1S",
        "colab_type": "code",
        "colab": {}
      },
      "source": [
        "import numpy as np\n",
        "import pandas as pd\n",
        "import matplotlib.pyplot as plt\n"
      ],
      "execution_count": 0,
      "outputs": []
    },
    {
      "cell_type": "code",
      "metadata": {
        "id": "tQakaZwbQExe",
        "colab_type": "code",
        "colab": {}
      },
      "source": [
        "data= pd.read_csv('data.csv',header=None,names=['population','profit'])"
      ],
      "execution_count": 0,
      "outputs": []
    },
    {
      "cell_type": "code",
      "metadata": {
        "id": "kHJmrRDIQPT0",
        "colab_type": "code",
        "outputId": "3ef6eeb5-bad0-4ebb-fc10-20b3665fb142",
        "colab": {
          "base_uri": "https://localhost:8080/",
          "height": 202
        }
      },
      "source": [
        "print(data.head(10))"
      ],
      "execution_count": 0,
      "outputs": [
        {
          "output_type": "stream",
          "text": [
            "   population   profit\n",
            "0      6.1101  17.5920\n",
            "1      5.5277   9.1302\n",
            "2      8.5186  13.6620\n",
            "3      7.0032  11.8540\n",
            "4      5.8598   6.8233\n",
            "5      8.3829  11.8860\n",
            "6      7.4764   4.3483\n",
            "7      8.5781  12.0000\n",
            "8      6.4862   6.5987\n",
            "9      5.0546   3.8166\n"
          ],
          "name": "stdout"
        }
      ]
    },
    {
      "cell_type": "code",
      "metadata": {
        "id": "1Rn-pWpmQX_6",
        "colab_type": "code",
        "outputId": "ce98e0d6-860a-4d2e-e849-a2bd0a7030ac",
        "colab": {
          "base_uri": "https://localhost:8080/",
          "height": 284
        }
      },
      "source": [
        "data.describe()"
      ],
      "execution_count": 0,
      "outputs": [
        {
          "output_type": "execute_result",
          "data": {
            "text/html": [
              "<div>\n",
              "<style scoped>\n",
              "    .dataframe tbody tr th:only-of-type {\n",
              "        vertical-align: middle;\n",
              "    }\n",
              "\n",
              "    .dataframe tbody tr th {\n",
              "        vertical-align: top;\n",
              "    }\n",
              "\n",
              "    .dataframe thead th {\n",
              "        text-align: right;\n",
              "    }\n",
              "</style>\n",
              "<table border=\"1\" class=\"dataframe\">\n",
              "  <thead>\n",
              "    <tr style=\"text-align: right;\">\n",
              "      <th></th>\n",
              "      <th>population</th>\n",
              "      <th>profit</th>\n",
              "    </tr>\n",
              "  </thead>\n",
              "  <tbody>\n",
              "    <tr>\n",
              "      <th>count</th>\n",
              "      <td>97.000000</td>\n",
              "      <td>97.000000</td>\n",
              "    </tr>\n",
              "    <tr>\n",
              "      <th>mean</th>\n",
              "      <td>8.159800</td>\n",
              "      <td>5.839135</td>\n",
              "    </tr>\n",
              "    <tr>\n",
              "      <th>std</th>\n",
              "      <td>3.869884</td>\n",
              "      <td>5.510262</td>\n",
              "    </tr>\n",
              "    <tr>\n",
              "      <th>min</th>\n",
              "      <td>5.026900</td>\n",
              "      <td>-2.680700</td>\n",
              "    </tr>\n",
              "    <tr>\n",
              "      <th>25%</th>\n",
              "      <td>5.707700</td>\n",
              "      <td>1.986900</td>\n",
              "    </tr>\n",
              "    <tr>\n",
              "      <th>50%</th>\n",
              "      <td>6.589400</td>\n",
              "      <td>4.562300</td>\n",
              "    </tr>\n",
              "    <tr>\n",
              "      <th>75%</th>\n",
              "      <td>8.578100</td>\n",
              "      <td>7.046700</td>\n",
              "    </tr>\n",
              "    <tr>\n",
              "      <th>max</th>\n",
              "      <td>22.203000</td>\n",
              "      <td>24.147000</td>\n",
              "    </tr>\n",
              "  </tbody>\n",
              "</table>\n",
              "</div>"
            ],
            "text/plain": [
              "       population     profit\n",
              "count   97.000000  97.000000\n",
              "mean     8.159800   5.839135\n",
              "std      3.869884   5.510262\n",
              "min      5.026900  -2.680700\n",
              "25%      5.707700   1.986900\n",
              "50%      6.589400   4.562300\n",
              "75%      8.578100   7.046700\n",
              "max     22.203000  24.147000"
            ]
          },
          "metadata": {
            "tags": []
          },
          "execution_count": 4
        }
      ]
    },
    {
      "cell_type": "code",
      "metadata": {
        "id": "_jfDjasxQzNA",
        "colab_type": "code",
        "outputId": "de386f4d-450d-41dd-e8de-c0f9473b16e9",
        "colab": {
          "base_uri": "https://localhost:8080/",
          "height": 168
        }
      },
      "source": [
        "data.info()"
      ],
      "execution_count": 0,
      "outputs": [
        {
          "output_type": "stream",
          "text": [
            "<class 'pandas.core.frame.DataFrame'>\n",
            "RangeIndex: 97 entries, 0 to 96\n",
            "Data columns (total 2 columns):\n",
            " #   Column      Non-Null Count  Dtype  \n",
            "---  ------      --------------  -----  \n",
            " 0   population  97 non-null     float64\n",
            " 1   profit      97 non-null     float64\n",
            "dtypes: float64(2)\n",
            "memory usage: 1.6 KB\n"
          ],
          "name": "stdout"
        }
      ]
    },
    {
      "cell_type": "code",
      "metadata": {
        "id": "euk0-27uQ52A",
        "colab_type": "code",
        "outputId": "c4c5e88d-40b2-48de-b6d3-654f0cdd561a",
        "colab": {
          "base_uri": "https://localhost:8080/",
          "height": 351
        }
      },
      "source": [
        "data.plot(kind='scatter',x='population',y='profit',figsize=(5,5))"
      ],
      "execution_count": 0,
      "outputs": [
        {
          "output_type": "execute_result",
          "data": {
            "text/plain": [
              "<matplotlib.axes._subplots.AxesSubplot at 0x7f9a038bbfd0>"
            ]
          },
          "metadata": {
            "tags": []
          },
          "execution_count": 6
        },
        {
          "output_type": "display_data",
          "data": {
            "image/png": "[encoded data removed]",
            "text/plain": [
              "<Figure size 360x360 with 1 Axes>"
            ]
          },
          "metadata": {
            "tags": [],
            "needs_background": "light"
          }
        }
      ]
    },
    {
      "cell_type": "markdown",
      "metadata": {
        "id": "W_8JlO2vSlZY",
        "colab_type": "text"
      },
      "source": [
        "##  We will add a column with ones to be x1 (for bias)"
      ]
    },
    {
      "cell_type": "code",
      "metadata": {
        "id": "U-MBYGA8SP-H",
        "colab_type": "code",
        "colab": {}
      },
      "source": [
        "data.insert(0,'ones',1)"
      ],
      "execution_count": 0,
      "outputs": []
    },
    {
      "cell_type": "code",
      "metadata": {
        "id": "FrBIv95hSf0L",
        "colab_type": "code",
        "outputId": "e878cb13-6a2c-4200-91df-42f158e017d4",
        "colab": {
          "base_uri": "https://localhost:8080/",
          "height": 343
        }
      },
      "source": [
        "data.head(10)"
      ],
      "execution_count": 0,
      "outputs": [
        {
          "output_type": "execute_result",
          "data": {
            "text/html": [
              "<div>\n",
              "<style scoped>\n",
              "    .dataframe tbody tr th:only-of-type {\n",
              "        vertical-align: middle;\n",
              "    }\n",
              "\n",
              "    .dataframe tbody tr th {\n",
              "        vertical-align: top;\n",
              "    }\n",
              "\n",
              "    .dataframe thead th {\n",
              "        text-align: right;\n",
              "    }\n",
              "</style>\n",
              "<table border=\"1\" class=\"dataframe\">\n",
              "  <thead>\n",
              "    <tr style=\"text-align: right;\">\n",
              "      <th></th>\n",
              "      <th>ones</th>\n",
              "      <th>population</th>\n",
              "      <th>profit</th>\n",
              "    </tr>\n",
              "  </thead>\n",
              "  <tbody>\n",
              "    <tr>\n",
              "      <th>0</th>\n",
              "      <td>1</td>\n",
              "      <td>6.1101</td>\n",
              "      <td>17.5920</td>\n",
              "    </tr>\n",
              "    <tr>\n",
              "      <th>1</th>\n",
              "      <td>1</td>\n",
              "      <td>5.5277</td>\n",
              "      <td>9.1302</td>\n",
              "    </tr>\n",
              "    <tr>\n",
              "      <th>2</th>\n",
              "      <td>1</td>\n",
              "      <td>8.5186</td>\n",
              "      <td>13.6620</td>\n",
              "    </tr>\n",
              "    <tr>\n",
              "      <th>3</th>\n",
              "      <td>1</td>\n",
              "      <td>7.0032</td>\n",
              "      <td>11.8540</td>\n",
              "    </tr>\n",
              "    <tr>\n",
              "      <th>4</th>\n",
              "      <td>1</td>\n",
              "      <td>5.8598</td>\n",
              "      <td>6.8233</td>\n",
              "    </tr>\n",
              "    <tr>\n",
              "      <th>5</th>\n",
              "      <td>1</td>\n",
              "      <td>8.3829</td>\n",
              "      <td>11.8860</td>\n",
              "    </tr>\n",
              "    <tr>\n",
              "      <th>6</th>\n",
              "      <td>1</td>\n",
              "      <td>7.4764</td>\n",
              "      <td>4.3483</td>\n",
              "    </tr>\n",
              "    <tr>\n",
              "      <th>7</th>\n",
              "      <td>1</td>\n",
              "      <td>8.5781</td>\n",
              "      <td>12.0000</td>\n",
              "    </tr>\n",
              "    <tr>\n",
              "      <th>8</th>\n",
              "      <td>1</td>\n",
              "      <td>6.4862</td>\n",
              "      <td>6.5987</td>\n",
              "    </tr>\n",
              "    <tr>\n",
              "      <th>9</th>\n",
              "      <td>1</td>\n",
              "      <td>5.0546</td>\n",
              "      <td>3.8166</td>\n",
              "    </tr>\n",
              "  </tbody>\n",
              "</table>\n",
              "</div>"
            ],
            "text/plain": [
              "   ones  population   profit\n",
              "0     1      6.1101  17.5920\n",
              "1     1      5.5277   9.1302\n",
              "2     1      8.5186  13.6620\n",
              "3     1      7.0032  11.8540\n",
              "4     1      5.8598   6.8233\n",
              "5     1      8.3829  11.8860\n",
              "6     1      7.4764   4.3483\n",
              "7     1      8.5781  12.0000\n",
              "8     1      6.4862   6.5987\n",
              "9     1      5.0546   3.8166"
            ]
          },
          "metadata": {
            "tags": []
          },
          "execution_count": 8
        }
      ]
    },
    {
      "cell_type": "markdown",
      "metadata": {
        "id": "e1KD_GG3TaLy",
        "colab_type": "text"
      },
      "source": [
        "## Features and Labels seperation"
      ]
    },
    {
      "cell_type": "code",
      "metadata": {
        "id": "qKhs0CRERjZx",
        "colab_type": "code",
        "colab": {}
      },
      "source": [
        "cols = data.shape[1]\n",
        "x = data.iloc[:,0:cols-1]\n",
        "y = data.iloc[:,cols-1:cols]"
      ],
      "execution_count": 0,
      "outputs": []
    },
    {
      "cell_type": "code",
      "metadata": {
        "id": "wq6u5hnUWsnK",
        "colab_type": "code",
        "colab": {}
      },
      "source": [
        " # we can convert from dataframe to numpy matrix by np.matix(x.values)\n",
        "#x_features= np.matrix(x_features)\n",
        "#y_features=np.matrix(y_features)"
      ],
      "execution_count": 0,
      "outputs": []
    },
    {
      "cell_type": "code",
      "metadata": {
        "id": "08W7CGC-C5F0",
        "colab_type": "code",
        "colab": {}
      },
      "source": [
        "x = np.matrix(x.values)\n",
        "y = np.matrix(y.values)"
      ],
      "execution_count": 0,
      "outputs": []
    },
    {
      "cell_type": "markdown",
      "metadata": {
        "id": "algGeQ_nssp0",
        "colab_type": "text"
      },
      "source": [
        "## Normalization"
      ]
    },
    {
      "cell_type": "code",
      "metadata": {
        "id": "IIQU_CexsxLd",
        "colab_type": "code",
        "colab": {}
      },
      "source": [
        "def normalize(h):\n",
        "  return (h-h.mean())/ (h.max()-h.min())"
      ],
      "execution_count": 0,
      "outputs": []
    },
    {
      "cell_type": "code",
      "metadata": {
        "id": "6CHlRC2dtQeh",
        "colab_type": "code",
        "colab": {}
      },
      "source": [
        "#x_features=normalize(x_features)\n",
        "#y_features=normalize(y_features)"
      ],
      "execution_count": 0,
      "outputs": []
    },
    {
      "cell_type": "markdown",
      "metadata": {
        "id": "oTrqNZxKVIIU",
        "colab_type": "text"
      },
      "source": [
        "## We will make a zeros matrix for thetas"
      ]
    },
    {
      "cell_type": "code",
      "metadata": {
        "id": "rwAYgWfZTSmq",
        "colab_type": "code",
        "outputId": "42c659f7-b98e-4fae-a46b-7f523b5a7b4b",
        "colab": {
          "base_uri": "https://localhost:8080/",
          "height": 34
        }
      },
      "source": [
        "theta= np.matrix(np.array([0,0]))\n",
        "theta.shape"
      ],
      "execution_count": 0,
      "outputs": [
        {
          "output_type": "execute_result",
          "data": {
            "text/plain": [
              "(1, 2)"
            ]
          },
          "metadata": {
            "tags": []
          },
          "execution_count": 22
        }
      ]
    },
    {
      "cell_type": "markdown",
      "metadata": {
        "id": "-nn1Jp0xWLBU",
        "colab_type": "text"
      },
      "source": [
        "## Cost Function\n",
        "#### to get y_pred you have to multiply x to thetas (transpose)"
      ]
    },
    {
      "cell_type": "code",
      "metadata": {
        "id": "ipYCNvikTVki",
        "colab_type": "code",
        "colab": {}
      },
      "source": [
        "def costfunc(X_,Y_,Theta):\n",
        "  y_pred= X_*Theta.T\n",
        "  z= np.power((y_pred-Y_),2)\n",
        "  J= np.sum(z) / (2 * len(X_))\n",
        "  return J\n"
      ],
      "execution_count": 0,
      "outputs": []
    },
    {
      "cell_type": "code",
      "metadata": {
        "id": "CXiV8LX9CmEn",
        "colab_type": "code",
        "colab": {}
      },
      "source": [
        "#computeCost(x_features,y_features,theta)"
      ],
      "execution_count": 0,
      "outputs": []
    },
    {
      "cell_type": "code",
      "metadata": {
        "id": "5s_eKwBWYHLs",
        "colab_type": "code",
        "outputId": "124c3132-201b-4458-e34f-cee78f7508e4",
        "colab": {
          "base_uri": "https://localhost:8080/",
          "height": 34
        }
      },
      "source": [
        "costfunc(x,y,theta)"
      ],
      "execution_count": 0,
      "outputs": [
        {
          "output_type": "execute_result",
          "data": {
            "text/plain": [
              "32.072733877455676"
            ]
          },
          "metadata": {
            "tags": []
          },
          "execution_count": 26
        }
      ]
    },
    {
      "cell_type": "markdown",
      "metadata": {
        "id": "hqlVFGFMbASY",
        "colab_type": "text"
      },
      "source": [
        "## Gradient Decent"
      ]
    },
    {
      "cell_type": "code",
      "metadata": {
        "id": "-8aJjQOoYlyH",
        "colab_type": "code",
        "colab": {}
      },
      "source": [
        "def grdecnfunc (X,Y,Theta,alpha,iters):\n",
        "  # create a temporary matrix for thetas with the same shape\n",
        "  temp= np.matrix(np.zeros(Theta.shape))\n",
        "  #get the number of features/parameters from theta shape (the column)\n",
        "  parameters = int(Theta.ravel().shape[1])\n",
        "  #create a cost matrix for cost values with inatial values of zeros.\n",
        "  Cost = np.zeros(iters)\n",
        "  \n",
        "  for i in range(iters):\n",
        "    error = (X * Theta.T) - Y\n",
        "\n",
        "    #calculate the thetas for this iteration\n",
        "    for j in range (parameters):\n",
        "      #point to each x (feature) like this x_n = X[ : , j ]\n",
        "      #to get the multiply the error to /x   as the equation state\n",
        "      term = np.multiply ( error ,X[ : , j ])\n",
        "    \n",
        "      # to complete the gradient decent equqtion and re assigne each theta \n",
        "      #first point to each theta \n",
        "      #second re assigne the selected theta into the temp matrix\n",
        "      temp[0,j] = Theta[0,j]- ((alpha/ len(X)) * np.sum(term))\n",
        "\n",
        "      #finally assigne the generated temp thetas to the original thetas\n",
        "    Theta= temp\n",
        "    Cost[i] = costfunc(X,Y,Theta)\n",
        "\n",
        "  return Theta, Cost  \n",
        "\n"
      ],
      "execution_count": 0,
      "outputs": []
    },
    {
      "cell_type": "markdown",
      "metadata": {
        "id": "uYQJrOVDlaLh",
        "colab_type": "text"
      },
      "source": [
        "###Assume alpha and iterations number\n",
        " "
      ]
    },
    {
      "cell_type": "code",
      "metadata": {
        "id": "rkEmAebhlKj6",
        "colab_type": "code",
        "colab": {}
      },
      "source": [
        "Alpha= 0.01\n",
        "iterations= 1500"
      ],
      "execution_count": 0,
      "outputs": []
    },
    {
      "cell_type": "markdown",
      "metadata": {
        "id": "6BoL4Wt5lxdc",
        "colab_type": "text"
      },
      "source": [
        "## Run the model"
      ]
    },
    {
      "cell_type": "code",
      "metadata": {
        "id": "hgLpBBj9lqkP",
        "colab_type": "code",
        "colab": {}
      },
      "source": [
        "thetas,cost_ = grdecnfunc(x,y,theta,Alpha,iterations)"
      ],
      "execution_count": 0,
      "outputs": []
    },
    {
      "cell_type": "code",
      "metadata": {
        "id": "eaMjLj5imDmj",
        "colab_type": "code",
        "outputId": "f3575db1-8d46-4d48-edc2-032a40f1ce76",
        "colab": {
          "base_uri": "https://localhost:8080/",
          "height": 34
        }
      },
      "source": [
        "thetas"
      ],
      "execution_count": 0,
      "outputs": [
        {
          "output_type": "execute_result",
          "data": {
            "text/plain": [
              "matrix([[-3.63029144,  1.16636235]])"
            ]
          },
          "metadata": {
            "tags": []
          },
          "execution_count": 68
        }
      ]
    },
    {
      "cell_type": "code",
      "metadata": {
        "id": "a3sfUCiOy9rm",
        "colab_type": "code",
        "outputId": "7e14e358-ea8b-47e2-dbd9-3dc8eaee96b6",
        "colab": {
          "base_uri": "https://localhost:8080/",
          "height": 34
        }
      },
      "source": [
        "costfunc (x,y,thetas)"
      ],
      "execution_count": 0,
      "outputs": [
        {
          "output_type": "execute_result",
          "data": {
            "text/plain": [
              "4.483388256587726"
            ]
          },
          "metadata": {
            "tags": []
          },
          "execution_count": 69
        }
      ]
    },
    {
      "cell_type": "code",
      "metadata": {
        "id": "zd3aoAv8mFzK",
        "colab_type": "code",
        "outputId": "395efece-34aa-445e-a893-30e8af085300",
        "colab": {
          "base_uri": "https://localhost:8080/",
          "height": 50
        }
      },
      "source": [
        "cost_"
      ],
      "execution_count": 0,
      "outputs": [
        {
          "output_type": "execute_result",
          "data": {
            "text/plain": [
              "array([6.73719046, 5.93159357, 5.90115471, ..., 4.48343473, 4.48341145,\n",
              "       4.48338826])"
            ]
          },
          "metadata": {
            "tags": []
          },
          "execution_count": 70
        }
      ]
    },
    {
      "cell_type": "code",
      "metadata": {
        "id": "Ovo8R350mJUA",
        "colab_type": "code",
        "colab": {}
      },
      "source": [
        "line= thetas[0,0] + (thetas[0,1] * x)"
      ],
      "execution_count": 0,
      "outputs": []
    },
    {
      "cell_type": "code",
      "metadata": {
        "id": "3XY-9VwAprSZ",
        "colab_type": "code",
        "outputId": "37cc69f9-d027-418c-8a2b-50386f917fbe",
        "colab": {
          "base_uri": "https://localhost:8080/",
          "height": 367
        }
      },
      "source": [
        "fig,ax = plt.subplots(figsize=(5,5))\n",
        "ax.plot(x,line,'r',label='prediction')\n",
        "ax.scatter(data.population,data.profit,label='Training Data')\n",
        "ax.legend(loc=2)\n",
        "ax.set_xlabel('YearsExperience')\n",
        "ax.set_ylabel('Salary')\n",
        "ax.set_title('YearsExperience Vs. Salary ')"
      ],
      "execution_count": 0,
      "outputs": [
        {
          "output_type": "execute_result",
          "data": {
            "text/plain": [
              "Text(0.5, 1.0, 'YearsExperience Vs. Salary ')"
            ]
          },
          "metadata": {
            "tags": []
          },
          "execution_count": 72
        },
        {
          "output_type": "display_data",
          "data": {
            "image/png": "[encoded data removed]",
            "text/plain": [
              "<Figure size 360x360 with 1 Axes>"
            ]
          },
          "metadata": {
            "tags": [],
            "needs_background": "light"
          }
        }
      ]
    },
    {
      "cell_type": "code",
      "metadata": {
        "id": "cnBqdl2Nql6F",
        "colab_type": "code",
        "outputId": "5086bf5c-bc72-4c58-c2b1-2cbcf46c4bb2",
        "colab": {
          "base_uri": "https://localhost:8080/",
          "height": 367
        }
      },
      "source": [
        "fig,ax = plt.subplots(figsize=(5,5))\n",
        "ax.plot(np.arange(iterations),cost_,'r',label='prediction')\n",
        "\n",
        "ax.set_xlabel('Iterations')\n",
        "ax.set_ylabel('cost')\n",
        "ax.set_title('Iterations Vs. cost ')"
      ],
      "execution_count": 0,
      "outputs": [
        {
          "output_type": "execute_result",
          "data": {
            "text/plain": [
              "Text(0.5, 1.0, 'Iterations Vs. cost ')"
            ]
          },
          "metadata": {
            "tags": []
          },
          "execution_count": 65
        },
        {
          "output_type": "display_data",
          "data": {
            "image/png": "[encoded data removed]",
            "text/plain": [
              "<Figure size 360x360 with 1 Axes>"
            ]
          },
          "metadata": {
            "tags": [],
            "needs_background": "light"
          }
        }
      ]
    },
    {
      "cell_type": "code",
      "metadata": {
        "id": "lfHL0h4exc-0",
        "colab_type": "code",
        "colab": {}
      },
      "source": [
        ""
      ],
      "execution_count": 0,
      "outputs": []
    }
  ]
}